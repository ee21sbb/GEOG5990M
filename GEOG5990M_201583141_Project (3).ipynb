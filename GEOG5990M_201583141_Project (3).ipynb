{
 "cells": [
  {
   "cell_type": "code",
   "execution_count": null,
   "id": "e91d7948-e287-4b2d-9470-dab2b5cfa727",
   "metadata": {},
   "outputs": [],
   "source": [
    "# import required packages\n",
    "import geopandas as gpd\n",
    "import pandas as pd\n",
    "import seaborn as sns\n",
    "from scipy import stats\n",
    "import numpy as np\n",
    "import matplotlib.pyplot as plt\n",
    "from sklearn import cluster\n",
    "from sklearn.preprocessing import scale"
   ]
  },
  {
   "cell_type": "markdown",
   "id": "b1b6147a-7b92-4442-8673-c148af0a71ea",
   "metadata": {},
   "source": [
    "**Step 1: Preprocessing and Merging**\n",
    "\n",
    "In this section I will first import the Index of Multiple Deprivation (IMD) by LSOA obtained from the MHCLG Open Data website (1) and \"churning\" data obtained from the CDRC website (James, 2).\n",
    "Then I will preprocess them by extracting just the Leeds district data from the IMD dataset, as this contains Local Authority District names, and performing a left-hand merge with the churning data, which does not have a Local Authority District variable.\n",
    "This leaves us with 482 LSOAs with data in the Leeds area \n"
   ]
  },
  {
   "cell_type": "code",
   "execution_count": null,
   "id": "503e94c6-ac60-4f30-8e3c-f9934883a7f6",
   "metadata": {},
   "outputs": [],
   "source": [
    "#import deprivation data\n",
    "deprivation = pd.read_csv(\"File_1_-_IMD2019_Index_of_Multiple_Deprivation (1).csv\")\n",
    "\n",
    "#Exploring deprivation data\n",
    "deprivation.head()\n",
    "deprivation.tail()\n",
    "deprivation.columns\n",
    "deprivation.index\n",
    "deprivation.shape\n",
    "deprivation.dtypes\n",
    "deprivation.info()\n",
    "#Everything looks in order - data types are appropriate and no data is missing"
   ]
  },
  {
   "cell_type": "code",
   "execution_count": null,
   "id": "c258c86d-a5ba-4d04-8461-6e4897c6d339",
   "metadata": {},
   "outputs": [],
   "source": [
    "#First, I'm only interested in Leeds so let's subset that\n",
    "leeds_deprivation = deprivation.loc[deprivation[\"Local Authority District name (2019)\"]==\"Leeds\"]\n",
    "#Let's check if it's worked\n",
    "leeds_deprivation.head()\n",
    "#Looks the same - let's use groupby to make sure only IMD is here"
   ]
  },
  {
   "cell_type": "code",
   "execution_count": null,
   "id": "d186b099-2af7-4e6c-9fcc-6f66e439187b",
   "metadata": {},
   "outputs": [],
   "source": [
    "leeds_deprivation.groupby(\"Local Authority District name (2019)\").size()\n",
    "#Looks good! "
   ]
  },
  {
   "cell_type": "code",
   "execution_count": null,
   "id": "1a66c4d3-1771-421e-8c8a-afe2be4e77e3",
   "metadata": {},
   "outputs": [],
   "source": [
    "#import churning data\n",
    "churning = pd.read_csv(\"hh_churn_lsoa11_2023.csv\")\n",
    "\n",
    "#Exploring churning data\n",
    "churning.head()\n",
    "churning.tail()\n",
    "churning.columns\n",
    "churning.index\n",
    "churning.shape\n",
    "churning.dtypes\n",
    "churning.info()\n",
    "\n",
    "#Again everything looks in order - data types are appropriate and no data is missing"
   ]
  },
  {
   "cell_type": "code",
   "execution_count": null,
   "id": "8aa0ff13-aa8c-4c23-9709-b72249a2245e",
   "metadata": {},
   "outputs": [],
   "source": [
    "#Let's do a spatial join so we don't have to subset again\n",
    "leeds_fulldata = leeds_deprivation.merge(churning, how=\"left\", left_on=\"LSOA code (2011)\", right_on=\"area\")\n",
    "\n",
    "#Did it work?\n",
    "leeds_fulldata.head()\n",
    "leeds_fulldata.info()\n",
    "#Nothing's missing so it looks good!"
   ]
  },
  {
   "cell_type": "markdown",
   "id": "d5c2f4fa-b95a-49f4-ac16-e813b52a9125",
   "metadata": {},
   "source": [
    "**Step 2: Exploring the Data**\n",
    "In this step I explore the data through multiple charts, including a histogram to check the distribution of each variable that I am interested in.\n",
    "I then use hex plots, regression plots, categorical, and box plots to observe the relationships between the IMD deciles and churning variables."
   ]
  },
  {
   "cell_type": "code",
   "execution_count": null,
   "id": "71194757-c158-4f41-971c-a7c5d8ff212a",
   "metadata": {},
   "outputs": [],
   "source": [
    "#Histogram to check IMD distribution\n",
    "leeds_fulldata[\"Index of Multiple Deprivation (IMD) Decile\"].hist();\n",
    "#Interesting - it's relatively evenly distributed, but the number of least deprived areas is skewed much higher"
   ]
  },
  {
   "cell_type": "code",
   "execution_count": null,
   "id": "747aa71b-cf9b-49e0-8ea2-6ded167d4a8f",
   "metadata": {},
   "outputs": [],
   "source": [
    "#Histogram to check churning distribution\n",
    "#let's use percentage change between 1997 to 2023 as an example\n",
    "#And break it into 20 bins since it's percentage data\n",
    "leeds_fulldata[\"chn1997\"].hist(bins=20);\n",
    "#Pretty normal distribution, with a median around 65%"
   ]
  },
  {
   "cell_type": "code",
   "execution_count": null,
   "id": "c63dbc3f-a108-47d6-b038-c1ba3afc3cd6",
   "metadata": {},
   "outputs": [],
   "source": [
    "#How does it look between 2017 and 2023?\n",
    "leeds_fulldata[\"chn2017\"].hist(bins=20);\n",
    "#As expected - still a pretty normal distribution but with lower median of 20%"
   ]
  },
  {
   "cell_type": "code",
   "execution_count": null,
   "id": "edbc3b2c-6fda-4694-a237-207da0dc51ac",
   "metadata": {},
   "outputs": [],
   "source": [
    "#Let's try plotting these against each other\n",
    "sns.jointplot(x=\"Index of Multiple Deprivation (IMD) Decile\", y=\"chn1997\", kind=\"hex\", data=leeds_fulldata);\n",
    "#Difficult to tell much of a correlation here "
   ]
  },
  {
   "cell_type": "code",
   "execution_count": null,
   "id": "ff7196d8-2afb-42d6-bea2-f33741c954ba",
   "metadata": {},
   "outputs": [],
   "source": [
    "#Let's try a regression plot\n",
    "sns.jointplot(x=\"Index of Multiple Deprivation (IMD) Decile\", y=\"chn1997\", kind=\"reg\", data=leeds_fulldata);\n",
    "#Looks like a relatively weak negative correlation between 1997-2023 churn and IMD decile"
   ]
  },
  {
   "cell_type": "code",
   "execution_count": null,
   "id": "8def8ad1-2c6e-4ede-ab12-55f247f239a3",
   "metadata": {},
   "outputs": [],
   "source": [
    "#Let's try a categorical plot\n",
    "sns.catplot(x=\"Index of Multiple Deprivation (IMD) Decile\", y=\"chn1997\", data=leeds_fulldata, height=6, dodge=True);"
   ]
  },
  {
   "cell_type": "code",
   "execution_count": null,
   "id": "8bc89506-eca0-427e-962f-47a87122c52f",
   "metadata": {},
   "outputs": [],
   "source": [
    "#Perhaps a box plot would be best to illustrate this\n",
    "sns.catplot(x=\"Index of Multiple Deprivation (IMD) Decile\", y=\"chn1997\", data=leeds_fulldata, height=6, dodge=True, kind=\"box\")"
   ]
  },
  {
   "cell_type": "markdown",
   "id": "fe77f34e-922d-423c-8095-c436e51d5f04",
   "metadata": {},
   "source": [
    "**Step 3: Non-Spatial Final Visualisation**\n",
    "This final visualisation is designed for Leeds City Council policymakers aiming to understand if there is a relationship between residential mobility and IMD decile. \n",
    "A box plot is the best choice for this as the categorical nature of IMD deciles is best communicated via this method. I have also used informative captions about what IMD decile means in order to inform policymakers who may be unfamiliar with IMD deciles"
   ]
  },
  {
   "cell_type": "code",
   "execution_count": null,
   "id": "4afa0d55-2853-4e92-bab2-1dd1f387a73c",
   "metadata": {},
   "outputs": [],
   "source": [
    "#This seems like the best way to plot this data, so let's clean up this plot by adding a title and informative axis names\n",
    "sns.catplot(x=\"Index of Multiple Deprivation (IMD) Decile\", y=\"chn1997\", \n",
    "                 data=leeds_fulldata, \n",
    "                 height=6, \n",
    "                 dodge=True, \n",
    "                 kind=\"box\");\n",
    "\n",
    "#Adding axis names and title and setting appropriate font size\n",
    "plt.xlabel(\"2019 Index of Multiple Deprivation (IMD) Decile (1 = Most Deprived 10%; 10 = Least Deprived 10%)\", fontsize = 8);\n",
    "plt.ylabel(\"Proportion of properties which changed occupants between 1997 and 2023\", fontsize = 10);\n",
    "plt.title(\"Deprivation and Residential Changes in Leeds, By Lower Super Output Area\")"
   ]
  },
  {
   "cell_type": "markdown",
   "id": "332e2cbc-dac2-4e78-acc3-e38b0640cd5c",
   "metadata": {},
   "source": [
    "**Step 4: Processing Spatial Data**\n",
    "In order to present this non-spatial data in a spatial context, I will first import LSOA centroid data from the ONS (3) and merge it with the non-spatial dataset using the LSOA codes. I then convert the X and Y coordinates of the centroids into geometry (with CRS as British National Grid, the most appropriate CRS for UK data) so that they can be read and geopandas and mapped. This is my first spatial dataset.\n",
    "\n",
    "After this, I read in an LSOA boundary shapefile from the ONS (4), set its coordinates system to WGS84 and then convert it to British National Grid. Then I merge this with the full data to create my second spatial dataset: LSOA boundaries. After this I remove any data with null values so only Leeds district LSOAs are present in the data as these are the only LSOAs I'm interested in.\n",
    "\n",
    "The reason that I want a centroid dataset and a boundary dataset is so I can map both the churning and IMD variables on the same spatial map."
   ]
  },
  {
   "cell_type": "code",
   "execution_count": null,
   "id": "94cdf7ef-bc79-407e-a09d-8920c7959d01",
   "metadata": {},
   "outputs": [],
   "source": [
    "#Now let's read in the shapefile of LSOA centroids\n",
    "LSOACentroids = gpd.read_file(\"infuse_lsoa_lyr_2011.csv\")\n",
    "\n",
    "#And explore the data\n",
    "LSOACentroids.head()\n",
    "LSOACentroids.info()\n",
    "#So we can do a join with the geo_code variable"
   ]
  },
  {
   "cell_type": "code",
   "execution_count": null,
   "id": "85009478-8c76-47b9-812d-682d6ef8ac4b",
   "metadata": {},
   "outputs": [],
   "source": [
    "#Let's do the join now\n",
    "leeds_fulldata = leeds_fulldata.merge(LSOACentroids, how=\"left\", left_on=\"LSOA code (2011)\", right_on=\"geo_code\")\n",
    "\n",
    "#Let's check it worked\n",
    "leeds_fulldata.info()\n",
    "#No data missing so it's all good now"
   ]
  },
  {
   "cell_type": "code",
   "execution_count": null,
   "id": "292a0ded-3e82-4933-a90c-6db29a02f5ad",
   "metadata": {},
   "outputs": [],
   "source": [
    "#Since the points are coordinates, we'll need to convert into geometry, with CRS as British National Grid\n",
    "leeds_fulldata = gpd.GeoDataFrame(leeds_fulldata, geometry=gpd.points_from_xy(leeds_fulldata.x, leeds_fulldata.y), crs=\"EPSG:27700\")\n",
    "\n",
    "#Let's check if geometry has been added\n",
    "leeds_fulldata.head()\n",
    "#Geometry is there!"
   ]
  },
  {
   "cell_type": "code",
   "execution_count": null,
   "id": "68063e0d-4c12-4bdb-9c8b-e249e5fbfa0c",
   "metadata": {},
   "outputs": [],
   "source": [
    "#Let's see how it's mapped\n",
    "leeds_fulldata.explore()\n",
    "#Looks correct! - but they're centroids. I'd like boundaries too"
   ]
  },
  {
   "cell_type": "code",
   "execution_count": null,
   "id": "29c8cf45-aa53-4aeb-9b42-1b5b43eb617f",
   "metadata": {},
   "outputs": [],
   "source": [
    "#Now let's read in the LSOA boundaries\n",
    "LSOABoundaries = gpd.read_file(\"Lower_Layer_Super_Output_Areas_December_2011_Generalised_Clipped__Boundaries_in_England_and_Wales.shp\")\n",
    "\n",
    "#And explore the data\n",
    "LSOABoundaries.head()\n",
    "#There's no geocode here - so we'll have to do a spatial join"
   ]
  },
  {
   "cell_type": "code",
   "execution_count": null,
   "id": "1f85f5b5-102c-4bdf-8a4c-22cf3d38df42",
   "metadata": {},
   "outputs": [],
   "source": [
    "#First let's check the CRS\n",
    "LSOABoundaries.crs\n",
    "#No CRS, but I know that it's WGS from the readme. So let's first set that\n",
    "LSOABoundaries = LSOABoundaries.set_crs(\"EPSG:4326\")\n",
    "#And let's check it worked\n",
    "LSOABoundaries.explore()\n",
    "#It worked!"
   ]
  },
  {
   "cell_type": "code",
   "execution_count": null,
   "id": "71ed3db0-d637-4a46-98f8-e77337841695",
   "metadata": {},
   "outputs": [],
   "source": [
    "#Now to convert it to BNG\n",
    "LSOABoundaries = LSOABoundaries.to_crs(\"EPSG:27700\")\n",
    "#And let's check it worked\n",
    "LSOABoundaries.crs\n",
    "#And let's explore just to check!\n",
    "LSOABoundaries.explore()\n",
    "#Looks good. Now for the spatial join"
   ]
  },
  {
   "cell_type": "code",
   "execution_count": null,
   "id": "cb9ec7f5-48a1-4d03-b149-e3f0a2acdfd8",
   "metadata": {},
   "outputs": [],
   "source": [
    "leeds_fulldata_boundaries = gpd.sjoin(leeds_fulldata, LSOABoundaries, how=\"right\", predicate=\"intersects\")\n",
    "#Did it work?\n",
    "leeds_fulldata_boundaries.info()\n",
    "leeds_fulldata_boundaries.explore()\n",
    "#Looks good, but LSOAs from all over England and Wales are still there\n",
    "#So let's remove any rows with NaN values"
   ]
  },
  {
   "cell_type": "code",
   "execution_count": null,
   "id": "a5a8dcd7-0515-4b6f-9617-567330b83cb5",
   "metadata": {},
   "outputs": [],
   "source": [
    "leeds_fulldata_boundaries = leeds_fulldata_boundaries.dropna()\n",
    "#Did it work?\n"
   ]
  },
  {
   "cell_type": "code",
   "execution_count": null,
   "id": "c7f06612-6094-45f2-86d6-1d16c00aab1a",
   "metadata": {},
   "outputs": [],
   "source": [
    "leeds_fulldata_boundaries.info()\n",
    "#Only 482 rows so that works! Now we're ready for the analysis"
   ]
  },
  {
   "cell_type": "markdown",
   "id": "fcfdc6ea-7a9a-418b-adf9-4cb5f6a56fd9",
   "metadata": {},
   "source": [
    "**Step 5: Exploring the Spatial Data**\n",
    "\n",
    "First I plot the IMD deciles and churning deciles spatially in order to see their spatial trends.\n",
    "\n",
    "Then I use Spearman's rank correlation to analyse the relationship between IMD decile and churning trends between 1997 and 2023, 2007 and 2023, and 2017 and 2023, and plot this in a correlation matrix. I use Spearman's rank as this is most appropriate for the not normally distributed IMD data. I use these three different churning variables as they will track how the relationship between IMD decile and churning changes depending on how \"fast\" residential churn takes place."
   ]
  },
  {
   "cell_type": "code",
   "execution_count": null,
   "id": "d9d88bbf-a197-464b-b0de-8cc04b5cea1c",
   "metadata": {},
   "outputs": [],
   "source": [
    "#Now let's do the analysis - first let's plot the deciles\n",
    "fig, ax = plt.subplots(1, 1, figsize=(10,10))\n",
    "leeds_fulldata_boundaries.plot(column=\"Index of Multiple Deprivation (IMD) Decile\",\n",
    "                               linewidth=0.1,\n",
    "                               categorical=True,\n",
    "                               legend=True,\n",
    "                               #Red blue colour map\n",
    "                               cmap=\"RdBu\",\n",
    "                               ax=ax,\n",
    "                               #Setting the legend location\n",
    "                               legend_kwds={'loc': 'center left','bbox_to_anchor':(1,0.5)});\n",
    "#Setting title\n",
    "plt.title(\"IMD Deciles in Leeds, 2023\");\n",
    "#Turning off axis\n",
    "plt.axis(\"off\");"
   ]
  },
  {
   "cell_type": "code",
   "execution_count": null,
   "id": "ca4b8454-7251-4c65-b4a9-690a30aa34be",
   "metadata": {},
   "outputs": [],
   "source": [
    "#Now let's plot the churning\n",
    "fig, ax = plt.subplots(1, 1, figsize=(10,10))\n",
    "leeds_fulldata_boundaries.plot(column=\"chn1997\",\n",
    "                               linewidth=0.1,\n",
    "                               legend=True,\n",
    "                               #Red blue colour map\n",
    "                               cmap=\"RdBu\",\n",
    "                               ax=ax);\n",
    "#Setting title\n",
    "plt.title(\"Churning in Leeds between 1997 and 2023\");\n",
    "#Turning off axis\n",
    "plt.axis(\"off\");"
   ]
  },
  {
   "cell_type": "code",
   "execution_count": null,
   "id": "71c5a35c-591e-4393-95e8-8c8eb1c38f90",
   "metadata": {},
   "outputs": [],
   "source": [
    "#Let's see what correlations we can come up with between IMD and three churn datasets: 1997, 2007, 2017\n",
    "#We'll use Spearman's Rank as much of the data is not normally distributed\n",
    "corr_variables = leeds_fulldata_boundaries[[\"chn1997\", \"chn2007\", \"chn2017\", \n",
    "                                            \"Index of Multiple Deprivation (IMD) Decile\"]].corr(method=\"spearman\")\n",
    "corr_variables\n",
    "#So correlation appears consistently, moderately negative between IMD and chn1997/chn2007\n",
    "#But pretty much no correlation between IMD and chn2017"
   ]
  },
  {
   "cell_type": "code",
   "execution_count": null,
   "id": "907745d6-177c-4c2e-a72c-4f73d8d48b39",
   "metadata": {},
   "outputs": [],
   "source": [
    "#Let's plot this as a heatmap to make it easier\n",
    "#First let's make the mask to hide half the plot\n",
    "mask = np.triu(np.ones_like(corr_variables))\n",
    "\n",
    "#Now let's make the plot\n",
    "fig,ax = plt.subplots(figsize=(8,8))\n",
    "sns.heatmap(corr_variables,\n",
    "            annot=True,\n",
    "            cmap=\"RdBu\",\n",
    "            vmin=-1,\n",
    "            vmax=1,\n",
    "            mask=mask,\n",
    "            linewidths=2,\n",
    "            cbar_kws={\"label\":\"Spearman's Rank correlation\", \"orientation\": \"horizontal\"},\n",
    "            ax=ax)"
   ]
  },
  {
   "cell_type": "markdown",
   "id": "d3964a70-c895-413e-8cc3-a0bd247b9b68",
   "metadata": {},
   "source": [
    "**Step 6: Cluster analysis**\n",
    "\n",
    "In an attempt to integrate this data into clusters, I use cluster analysis. First I use the elbow method to determine the optimum number of clusters, which is three. I then plot these clusters spatially. After using the group_by command to assess the average values of each cluster, it becomes apparent that the main variable influencing each cluster is the IMD decile, while the average values for churning don't change much between clusters. Though this indicates not much of a correlation between the two variables, it does provide a useful shorthand with which to group the IMD data into three clusters of low, medium, and high deprivation, as opposed to using all 10 deciles."
   ]
  },
  {
   "cell_type": "code",
   "execution_count": null,
   "id": "b4f94eef-0bb7-486c-91c6-dd26fb98aa53",
   "metadata": {},
   "outputs": [],
   "source": [
    "#Now let's do a cluster analysis using the elbow method\n",
    "Sum_of_squared_distances = []\n",
    "\n",
    "K = range(1,15)\n",
    "\n",
    "for i in K:\n",
    "    km = cluster.KMeans(n_clusters=i, init=\"random\", random_state=123)\n",
    "    km = km.fit(leeds_fulldata_boundaries[[\"chn1997\", \"chn2007\", \"chn2017\",\n",
    "    \"Index of Multiple Deprivation (IMD) Decile\"]].values)\n",
    "    Sum_of_squared_distances.append(km.inertia_)\n",
    "\n",
    "plt.plot(K, Sum_of_squared_distances, \"bx-\")\n",
    "plt.xlabel(\"k\")\n",
    "plt.ylabel(\"Sum of squared distances\")\n",
    "plt.title(\"Elbow Method\")\n",
    "plt.show\n",
    "#Looks like three clusters is optimal"
   ]
  },
  {
   "cell_type": "code",
   "execution_count": null,
   "id": "ffeac2e7-3ee0-4812-b885-5f5ab705e009",
   "metadata": {},
   "outputs": [],
   "source": [
    "km3 = cluster.KMeans(n_clusters=3, init=\"random\", random_state=123)\n",
    "km3cls = km3.fit(leeds_fulldata_boundaries[[\"chn1997\", \"chn2007\", \"chn2017\",\n",
    "                                            \"Index of Multiple Deprivation (IMD) Decile\"]].values)\n",
    "#Now let's look at the labels\n",
    "km3cls.labels_"
   ]
  },
  {
   "cell_type": "code",
   "execution_count": null,
   "id": "ce416fed-c3d5-470b-89c2-dbdd1c000c95",
   "metadata": {},
   "outputs": [],
   "source": [
    "#Now let's add cluster as a label\n",
    "leeds_fulldata_boundaries[\"Cluster\"] = km3cls.labels_\n",
    "leeds_fulldata_boundaries[\"Cluster\"].head()"
   ]
  },
  {
   "cell_type": "code",
   "execution_count": null,
   "id": "dc419a29-4a7f-41c0-8cfd-136808cbeeb1",
   "metadata": {},
   "outputs": [],
   "source": [
    "#Let's see how these clusters look spatially\n",
    "f, ax = plt.subplots(1, figsize=(10,10))\n",
    "leeds_fulldata_boundaries.plot(column=\"Cluster\", categorical=True, legend=True,\n",
    "                               linewidth=0.1, edgecolor=\"white\", ax=ax)\n",
    "\n",
    "ax.set_axis_off()\n",
    "plt.show()"
   ]
  },
  {
   "cell_type": "code",
   "execution_count": null,
   "id": "7a6a0151-2f22-4c8e-9daf-4ad02c770651",
   "metadata": {},
   "outputs": [],
   "source": [
    "#I'll now use groupby to assess the clusters - median is best here due to the IMD's categorical nature\n",
    "leeds_fulldata_boundaries_mean=leeds_fulldata_boundaries.groupby(\"Cluster\")[[\"chn1997\", \"chn2007\",\n",
    "                                                                               \"chn2017\", \"Index of Multiple Deprivation (IMD) Decile\"]].mean().reset_index()\n",
    "leeds_fulldata_boundaries_mean\n",
    "#So the main differentiating factor here seems to be IMD decile\n",
    "#This isn't really helpful for assessing multidimensional clusters\n",
    "#But it's a handy way to group IMD deciles into three main groups\n",
    "#0 is low mean deprivation, 1 is medium mean deprivation, 2 is high mean deprivation"
   ]
  },
  {
   "cell_type": "code",
   "execution_count": null,
   "id": "f06b668b-f016-43fd-b639-f12fe16fa5a5",
   "metadata": {},
   "outputs": [],
   "source": [
    "#So let's put these clusters and their descriptions into the dataset\n",
    "leeds_fulldata_boundaries.loc[leeds_fulldata_boundaries[\"Cluster\"]==0, \"Cluster_description\"]=\"Low average deprivation in 2019\"\n",
    "leeds_fulldata_boundaries.loc[leeds_fulldata_boundaries[\"Cluster\"]==1, \"Cluster_description\"]=\"Medium average deprivation in 2019\"\n",
    "leeds_fulldata_boundaries.loc[leeds_fulldata_boundaries[\"Cluster\"]==2, \"Cluster_description\"]=\"High average deprivation in 2019\""
   ]
  },
  {
   "cell_type": "markdown",
   "id": "43a0750d-9e4e-4f56-9ceb-32494f6b079e",
   "metadata": {},
   "source": [
    "**Step 7: Finalised Spatial Data Visualiation**\n",
    "\n",
    "Again, this visualisation is aimed towards Leeds City Council policymakers seeking to understand the relationship between churn and deprivation. I use the IMD decile clusters plotted to the boundaries as this is categorical data with fewer variables and therefore fewer colours, so is better as a background colour as it makes the visualisation look less busy and easier to interpret. I then mapped the churn data to the centroids and used a continuous blue colour scale which shows up well on the copper colours of the categorical data. Finally I used a loop function to map the three churn variables in three subplots in order to illustrate changes over time. I also ensured that the colour maps I used did not have overlapping colours so that it is clear which colour corresponds to which variable."
   ]
  },
  {
   "cell_type": "code",
   "execution_count": null,
   "id": "1ab4a22b-90f4-4b07-92e0-db72473159ce",
   "metadata": {},
   "outputs": [],
   "source": [
    "#And now let's map the clusters and the churning data together, comprised of three subplots of different churn years\n",
    "\n",
    "#First let's make a list of the three churn variables we want\n",
    "churn_cols = [\"chn1997\", \"chn2007\", \"chn2017\"]\n",
    "\n",
    "#Then we'll use a loop to save writing the same code for three churning variables\n",
    "for i in range (0, len(churn_cols)):\n",
    "\n",
    "    #This line sets size of the subplots\n",
    "    fig, ax = plt.subplots(1, 1, figsize=(15,15\n",
    "                                         ))\n",
    "    #This sets the basemap as the clusters\n",
    "    base = leeds_fulldata_boundaries.plot(ax=ax, column=\"Cluster_description\",\n",
    "                                          #The copper colour scheme is an appropriate continuous colour scheme for a base map\n",
    "                                          cmap=\"copper\",\n",
    "                                          #Make the LSOA boundary lines wider\n",
    "                                          linewidth=1,\n",
    "                                          #White shows up better than black as a line dividers\n",
    "                                          edgecolor=\"white\",\n",
    "                                          categorical=True,\n",
    "                                          legend=True\n",
    "                                         )\n",
    "    #Then map the churn data as centroids on top of the base layer, using the \"blues\" colour map which shows up well\n",
    "    leeds_fulldata.plot(column=churn_cols[i], ax=base, cmap=\"Blues\", legend=True, s=20)\n",
    "    #Turn the axis off\n",
    "    plt.axis(\"off\")\n",
    "    plt.title(churn_cols[i].replace(\"chn\",\"Proportion of properties which changed occupants between \")+\" and 2023 in Leeds, with deprivation data\")\n",
    "    plt.show()"
   ]
  },
  {
   "cell_type": "markdown",
   "id": "5896360d-0f3d-4ace-8a5e-1ef8775541dc",
   "metadata": {},
   "source": [
    "**Reference List**\n",
    "\n",
    "1. MHCLG. 2019. English Indices of Deprivation 2019 - LSOA Level. *MHCLG* [Online]. [Accessed 10 May 2025]. Available from: https://opendatacommunities.org/data/societal-wellbeing/imd2019/indices\n",
    "\n",
    "2. James, T. 2024. CDRC Residential Mobility Index LSOA 1997-2023. *CDRC* [Online]. [Accessed 10 May 2025]. Available from: https://data.cdrc.ac.uk/dataset/cdrc-residential-mobility-index\n",
    "\n",
    "3. ONS. 2024. Lower layer Super Output Areas (December 2011) EW Population Weighted Centroids. *ONS* [Online]. [Accessed 10 May 2025]. Available from: https://www.data.gov.uk/dataset/5ac2aae6-4f82-4d71-92d6-95e648b085e1/lower-layer-super-output-areas-december-2011-ew-population-weighted-centroids\n",
    "\n",
    "4. ONS. 2016. Lower Layer Super Output Area (LSOA) boundaries. *ONS* [Online]. [Accessed 10 May 2025]. Available from: https://www.data.gov.uk/dataset/fa883558-22fb-4a1a-8529-cffdee47d500/lower_layer_super_output_area_lsoa_boundaries "
   ]
  }
 ],
 "metadata": {
  "kernelspec": {
   "display_name": "Python [conda env:base] *",
   "language": "python",
   "name": "conda-base-py"
  },
  "language_info": {
   "codemirror_mode": {
    "name": "ipython",
    "version": 3
   },
   "file_extension": ".py",
   "mimetype": "text/x-python",
   "name": "python",
   "nbconvert_exporter": "python",
   "pygments_lexer": "ipython3",
   "version": "3.12.7"
  }
 },
 "nbformat": 4,
 "nbformat_minor": 5
}
